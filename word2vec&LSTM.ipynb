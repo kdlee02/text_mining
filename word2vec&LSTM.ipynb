{
 "cells": [
  {
   "cell_type": "markdown",
   "id": "f27ed7ee-73b3-4ab1-9338-36decf6d22ed",
   "metadata": {},
   "source": [
    "# Fetching Dataset"
   ]
  },
  {
   "cell_type": "code",
   "execution_count": 18,
   "id": "2e4d6da4-4fcd-4eda-8c4b-2b1fbfae0b48",
   "metadata": {},
   "outputs": [],
   "source": [
    "import numpy as np\n",
    "import pandas as pd\n",
    "import matplotlib.pyplot as plt\n",
    "import seaborn as sns\n",
    "from sklearn.model_selection import train_test_split\n",
    "from sklearn.metrics import classification_report, confusion_matrix, roc_curve, roc_auc_score\n",
    "import tensorflow as tf\n",
    "from tensorflow.keras.models import Sequential\n",
    "from tensorflow.keras.layers import Embedding, LSTM, Dense, Dropout, Bidirectional, GlobalMaxPool1D, Conv1D\n",
    "from tensorflow.keras.callbacks import EarlyStopping, ReduceLROnPlateau\n",
    "from tensorflow.keras.preprocessing.text import Tokenizer\n",
    "from tensorflow.keras.preprocessing.sequence import pad_sequences\n",
    "from gensim.models import Word2Vec\n",
    "import nltk\n",
    "from nltk.corpus import words, stopwords\n",
    "from nltk.stem import WordNetLemmatizer\n",
    "import re\n",
    "\n",
    "\n",
    "# import data and change columns\n",
    "df = pd.read_csv('~/Downloads/Twitter_Sentiment_Validation.csv',header=None)\n",
    "df.columns = [\"ID\", \"entity\", \"sentiment\",\"content\"]"
   ]
  },
  {
   "cell_type": "code",
   "execution_count": 20,
   "id": "d70a8e2c-3a16-47ac-956b-2b58f19d5167",
   "metadata": {},
   "outputs": [
    {
     "data": {
      "text/html": [
       "<div>\n",
       "<style scoped>\n",
       "    .dataframe tbody tr th:only-of-type {\n",
       "        vertical-align: middle;\n",
       "    }\n",
       "\n",
       "    .dataframe tbody tr th {\n",
       "        vertical-align: top;\n",
       "    }\n",
       "\n",
       "    .dataframe thead th {\n",
       "        text-align: right;\n",
       "    }\n",
       "</style>\n",
       "<table border=\"1\" class=\"dataframe\">\n",
       "  <thead>\n",
       "    <tr style=\"text-align: right;\">\n",
       "      <th></th>\n",
       "      <th>ID</th>\n",
       "      <th>entity</th>\n",
       "      <th>sentiment</th>\n",
       "      <th>content</th>\n",
       "    </tr>\n",
       "  </thead>\n",
       "  <tbody>\n",
       "    <tr>\n",
       "      <th>0</th>\n",
       "      <td>3364</td>\n",
       "      <td>Facebook</td>\n",
       "      <td>Irrelevant</td>\n",
       "      <td>I mentioned on Facebook that I was struggling ...</td>\n",
       "    </tr>\n",
       "    <tr>\n",
       "      <th>1</th>\n",
       "      <td>352</td>\n",
       "      <td>Amazon</td>\n",
       "      <td>Neutral</td>\n",
       "      <td>BBC News - Amazon boss Jeff Bezos rejects clai...</td>\n",
       "    </tr>\n",
       "    <tr>\n",
       "      <th>2</th>\n",
       "      <td>8312</td>\n",
       "      <td>Microsoft</td>\n",
       "      <td>Negative</td>\n",
       "      <td>@Microsoft Why do I pay for WORD when it funct...</td>\n",
       "    </tr>\n",
       "    <tr>\n",
       "      <th>3</th>\n",
       "      <td>4371</td>\n",
       "      <td>CS-GO</td>\n",
       "      <td>Negative</td>\n",
       "      <td>CSGO matchmaking is so full of closet hacking,...</td>\n",
       "    </tr>\n",
       "    <tr>\n",
       "      <th>4</th>\n",
       "      <td>4433</td>\n",
       "      <td>Google</td>\n",
       "      <td>Neutral</td>\n",
       "      <td>Now the President is slapping Americans in the...</td>\n",
       "    </tr>\n",
       "  </tbody>\n",
       "</table>\n",
       "</div>"
      ],
      "text/plain": [
       "     ID     entity   sentiment  \\\n",
       "0  3364   Facebook  Irrelevant   \n",
       "1   352     Amazon     Neutral   \n",
       "2  8312  Microsoft    Negative   \n",
       "3  4371      CS-GO    Negative   \n",
       "4  4433     Google     Neutral   \n",
       "\n",
       "                                             content  \n",
       "0  I mentioned on Facebook that I was struggling ...  \n",
       "1  BBC News - Amazon boss Jeff Bezos rejects clai...  \n",
       "2  @Microsoft Why do I pay for WORD when it funct...  \n",
       "3  CSGO matchmaking is so full of closet hacking,...  \n",
       "4  Now the President is slapping Americans in the...  "
      ]
     },
     "execution_count": 20,
     "metadata": {},
     "output_type": "execute_result"
    }
   ],
   "source": [
    "df.head()"
   ]
  },
  {
   "cell_type": "code",
   "execution_count": 22,
   "id": "a93f2822-a24f-4347-9d02-30d36cb6f8f7",
   "metadata": {},
   "outputs": [
    {
     "name": "stdout",
     "output_type": "stream",
     "text": [
      "<class 'pandas.core.frame.DataFrame'>\n",
      "RangeIndex: 1000 entries, 0 to 999\n",
      "Data columns (total 4 columns):\n",
      " #   Column     Non-Null Count  Dtype \n",
      "---  ------     --------------  ----- \n",
      " 0   ID         1000 non-null   int64 \n",
      " 1   entity     1000 non-null   object\n",
      " 2   sentiment  1000 non-null   object\n",
      " 3   content    1000 non-null   object\n",
      "dtypes: int64(1), object(3)\n",
      "memory usage: 31.4+ KB\n"
     ]
    }
   ],
   "source": [
    "df.info()"
   ]
  },
  {
   "cell_type": "markdown",
   "id": "1471d7a3-9413-4836-826e-1568a73df1d8",
   "metadata": {},
   "source": [
    "# 1. 워드 임베딩"
   ]
  },
  {
   "cell_type": "markdown",
   "id": "c0f2cdf6-ae43-44ea-82db-4a28cb30fc85",
   "metadata": {},
   "source": [
    "## (1)\tNegative, Positive 레이블 된 데이터만 사용"
   ]
  },
  {
   "cell_type": "code",
   "execution_count": 26,
   "id": "8a770355-54cc-41a5-bfb1-77b37e9b143d",
   "metadata": {},
   "outputs": [],
   "source": [
    "# exclude neutral and irrelevant sentiment\n",
    "df = df[(df['sentiment'] != 'Neutral') & (df['sentiment'] != 'Irrelevant')]\n",
    "\n",
    "label_dict = {'Positive': 1, 'Negative': 0}\n",
    "y = np.array([label_dict[c] for c in df['sentiment']])\n",
    "\n",
    "# train-test\n",
    "from sklearn.model_selection import train_test_split\n",
    "\n",
    "X_train, X_test, y_train, y_test = train_test_split(df['content'].to_list(), y, test_size=0.2, random_state=42)"
   ]
  },
  {
   "cell_type": "code",
   "execution_count": 28,
   "id": "f9a4990b-bca9-4bed-9dcb-599cff61a148",
   "metadata": {},
   "outputs": [
    {
     "data": {
      "text/plain": [
       "<seaborn.axisgrid.FacetGrid at 0x11143c790>"
      ]
     },
     "execution_count": 28,
     "metadata": {},
     "output_type": "execute_result"
    },
    {
     "data": {
      "image/png": "[encoded data removed]",
      "text/plain": [
       "<Figure size 500x500 with 1 Axes>"
      ]
     },
     "metadata": {},
     "output_type": "display_data"
    }
   ],
   "source": [
    "# count plot\n",
    "sns.catplot(data=df,\n",
    "           x='sentiment',\n",
    "           kind = 'count')"
   ]
  },
  {
   "cell_type": "markdown",
   "id": "6342d392-295e-4dd5-bde7-3c18ee75de41",
   "metadata": {},
   "source": [
    "## (2)\tWord2Vec으로 임베딩"
   ]
  },
  {
   "cell_type": "code",
   "execution_count": 31,
   "id": "f97739d5-0f08-466c-931c-2deef4ee3f32",
   "metadata": {},
   "outputs": [],
   "source": [
    "# word2Vec embedding dimension\n",
    "Embedding_dim = 32\n",
    "\n",
    "# defining the model input length\n",
    "input_length = 50 \n",
    "\n",
    "# convert to list\n",
    "Word2vec_train_data = list(map(lambda x: x.split(), X_train))\n",
    "\n",
    "# word2Vec\n",
    "word2vec_model = Word2Vec(Word2vec_train_data, \n",
    "                          vector_size=Embedding_dim, \n",
    "                          workers=8, \n",
    "                          min_count=5)\n",
    "\n",
    "# tokenizer\n",
    "tokenizer = Tokenizer()\n",
    "tokenizer.fit_on_texts(df['content'].to_list())\n",
    "vocab_length = len(tokenizer.word_index) + 1\n",
    "\n",
    "# content to sequences to padding\n",
    "X_train = pad_sequences(tokenizer.texts_to_sequences(X_train), \n",
    "                                 maxlen=input_length)\n",
    "X_test  = pad_sequences(tokenizer.texts_to_sequences(X_test) , \n",
    "                                maxlen=input_length)\n",
    "\n",
    "# embedding matrix\n",
    "embedding_matrix = np.zeros((vocab_length, Embedding_dim))\n",
    "\n",
    "for word, token in tokenizer.word_index.items():\n",
    "    if word2vec_model.wv.__contains__(word):\n",
    "        embedding_matrix[token] = word2vec_model.wv.__getitem__(word)"
   ]
  },
  {
   "cell_type": "markdown",
   "id": "d4d3f19b-1789-4c9c-ac94-70e1df52d38e",
   "metadata": {},
   "source": [
    "# 2. 분류 모델 적용:"
   ]
  },
  {
   "cell_type": "markdown",
   "id": "69a490d9-dfb5-47aa-8f1f-a708f8e644a0",
   "metadata": {},
   "source": [
    "## (1) LSTM을 활용한 감성분석 모델링(학습)"
   ]
  },
  {
   "cell_type": "code",
   "execution_count": 35,
   "id": "672de661-2260-452e-b723-df5135a1cd5b",
   "metadata": {},
   "outputs": [
    {
     "name": "stdout",
     "output_type": "stream",
     "text": [
      "Epoch 1/15\n"
     ]
    },
    {
     "name": "stderr",
     "output_type": "stream",
     "text": [
      "/Users/jameslee/anaconda3/lib/python3.11/site-packages/keras/src/layers/core/embedding.py:90: UserWarning: Argument `input_length` is deprecated. Just remove it.\n",
      "  warnings.warn(\n"
     ]
    },
    {
     "name": "stdout",
     "output_type": "stream",
     "text": [
      "\u001b[1m49/49\u001b[0m \u001b[32m━━━━━━━━━━━━━━━━━━━━\u001b[0m\u001b[37m\u001b[0m \u001b[1m3s\u001b[0m 19ms/step - accuracy: 0.5215 - loss: 0.6913 - val_accuracy: 0.4545 - val_loss: 0.6925 - learning_rate: 0.0010\n",
      "Epoch 2/15\n",
      "\u001b[1m49/49\u001b[0m \u001b[32m━━━━━━━━━━━━━━━━━━━━\u001b[0m\u001b[37m\u001b[0m \u001b[1m1s\u001b[0m 16ms/step - accuracy: 0.4832 - loss: 0.6956 - val_accuracy: 0.5227 - val_loss: 0.6909 - learning_rate: 0.0010\n",
      "Epoch 3/15\n",
      "\u001b[1m49/49\u001b[0m \u001b[32m━━━━━━━━━━━━━━━━━━━━\u001b[0m\u001b[37m\u001b[0m \u001b[1m1s\u001b[0m 22ms/step - accuracy: 0.5349 - loss: 0.6866 - val_accuracy: 0.5909 - val_loss: 0.6751 - learning_rate: 0.0010\n",
      "Epoch 4/15\n",
      "\u001b[1m49/49\u001b[0m \u001b[32m━━━━━━━━━━━━━━━━━━━━\u001b[0m\u001b[37m\u001b[0m \u001b[1m1s\u001b[0m 23ms/step - accuracy: 0.7034 - loss: 0.5999 - val_accuracy: 0.6364 - val_loss: 0.6844 - learning_rate: 0.0010\n",
      "Epoch 5/15\n",
      "\u001b[1m49/49\u001b[0m \u001b[32m━━━━━━━━━━━━━━━━━━━━\u001b[0m\u001b[37m\u001b[0m \u001b[1m1s\u001b[0m 23ms/step - accuracy: 0.8971 - loss: 0.2970 - val_accuracy: 0.6818 - val_loss: 0.9595 - learning_rate: 0.0010\n",
      "Epoch 6/15\n",
      "\u001b[1m49/49\u001b[0m \u001b[32m━━━━━━━━━━━━━━━━━━━━\u001b[0m\u001b[37m\u001b[0m \u001b[1m1s\u001b[0m 25ms/step - accuracy: 0.9403 - loss: 0.2155 - val_accuracy: 0.7500 - val_loss: 0.8779 - learning_rate: 0.0010\n",
      "Epoch 7/15\n",
      "\u001b[1m49/49\u001b[0m \u001b[32m━━━━━━━━━━━━━━━━━━━━\u001b[0m\u001b[37m\u001b[0m \u001b[1m1s\u001b[0m 25ms/step - accuracy: 0.9833 - loss: 0.0602 - val_accuracy: 0.6364 - val_loss: 0.9185 - learning_rate: 0.0010\n",
      "Epoch 8/15\n",
      "\u001b[1m49/49\u001b[0m \u001b[32m━━━━━━━━━━━━━━━━━━━━\u001b[0m\u001b[37m\u001b[0m \u001b[1m1s\u001b[0m 28ms/step - accuracy: 0.9711 - loss: 0.0536 - val_accuracy: 0.7500 - val_loss: 0.9996 - learning_rate: 0.0010\n",
      "Epoch 9/15\n",
      "\u001b[1m49/49\u001b[0m \u001b[32m━━━━━━━━━━━━━━━━━━━━\u001b[0m\u001b[37m\u001b[0m \u001b[1m1s\u001b[0m 25ms/step - accuracy: 0.9998 - loss: 0.0083 - val_accuracy: 0.7500 - val_loss: 1.0065 - learning_rate: 1.0000e-04\n",
      "Epoch 10/15\n",
      "\u001b[1m49/49\u001b[0m \u001b[32m━━━━━━━━━━━━━━━━━━━━\u001b[0m\u001b[37m\u001b[0m \u001b[1m1s\u001b[0m 27ms/step - accuracy: 1.0000 - loss: 0.0093 - val_accuracy: 0.7727 - val_loss: 0.9822 - learning_rate: 1.0000e-04\n",
      "Epoch 11/15\n",
      "\u001b[1m49/49\u001b[0m \u001b[32m━━━━━━━━━━━━━━━━━━━━\u001b[0m\u001b[37m\u001b[0m \u001b[1m1s\u001b[0m 24ms/step - accuracy: 1.0000 - loss: 0.0096 - val_accuracy: 0.7500 - val_loss: 0.9551 - learning_rate: 1.0000e-04\n",
      "Epoch 12/15\n",
      "\u001b[1m49/49\u001b[0m \u001b[32m━━━━━━━━━━━━━━━━━━━━\u001b[0m\u001b[37m\u001b[0m \u001b[1m1s\u001b[0m 27ms/step - accuracy: 0.9913 - loss: 0.0178 - val_accuracy: 0.7727 - val_loss: 1.0267 - learning_rate: 1.0000e-04\n",
      "Epoch 13/15\n",
      "\u001b[1m49/49\u001b[0m \u001b[32m━━━━━━━━━━━━━━━━━━━━\u001b[0m\u001b[37m\u001b[0m \u001b[1m1s\u001b[0m 27ms/step - accuracy: 0.9965 - loss: 0.0111 - val_accuracy: 0.7045 - val_loss: 1.0571 - learning_rate: 1.0000e-04\n",
      "Epoch 14/15\n",
      "\u001b[1m49/49\u001b[0m \u001b[32m━━━━━━━━━━━━━━━━━━━━\u001b[0m\u001b[37m\u001b[0m \u001b[1m1s\u001b[0m 26ms/step - accuracy: 0.9958 - loss: 0.0226 - val_accuracy: 0.7045 - val_loss: 1.0592 - learning_rate: 1.0000e-05\n",
      "Epoch 15/15\n",
      "\u001b[1m49/49\u001b[0m \u001b[32m━━━━━━━━━━━━━━━━━━━━\u001b[0m\u001b[37m\u001b[0m \u001b[1m1s\u001b[0m 25ms/step - accuracy: 1.0000 - loss: 0.0088 - val_accuracy: 0.7045 - val_loss: 1.0626 - learning_rate: 1.0000e-05\n"
     ]
    }
   ],
   "source": [
    "# function of the model\n",
    "def getModel():\n",
    "    embedding_layer = Embedding(\n",
    "        input_dim=vocab_length,\n",
    "        output_dim=Embedding_dim,\n",
    "        weights=[embedding_matrix],\n",
    "        input_length=input_length,\n",
    "        trainable=True\n",
    "    )\n",
    "\n",
    "    model = Sequential([\n",
    "        embedding_layer,\n",
    "        Bidirectional(LSTM(64, dropout=0.3, return_sequences=True)),\n",
    "        Conv1D(64, 3, activation='relu'),  # Use kernel_size=3 and 'same' padding\n",
    "        GlobalMaxPool1D(),\n",
    "        Dense(16, activation='relu'),\n",
    "        Dense(1, activation='sigmoid'),\n",
    "    ])\n",
    "    model.build(input_shape=(None, input_length))\n",
    "    return model\n",
    "\n",
    "# call the function and compile\n",
    "training_model = getModel()\n",
    "training_model.compile(\n",
    "    loss='binary_crossentropy',\n",
    "    optimizer='adam',\n",
    "    metrics=['accuracy']\n",
    ")\n",
    "\n",
    "# callbacks\n",
    "callbacks = [\n",
    "    ReduceLROnPlateau(monitor='val_loss', patience=5, cooldown=0),\n",
    "    EarlyStopping(monitor='val_accuracy', min_delta=1e-4, patience=5)\n",
    "]\n",
    "\n",
    "# train\n",
    "history = training_model.fit(\n",
    "    X_train, y_train,\n",
    "    batch_size=8,\n",
    "    epochs=15,\n",
    "    validation_split=0.1,\n",
    "    callbacks=callbacks,\n",
    "    verbose=1\n",
    ")"
   ]
  },
  {
   "cell_type": "code",
   "execution_count": 36,
   "id": "1837ead2-c17d-407a-98d4-933299b9233a",
   "metadata": {},
   "outputs": [
    {
     "name": "stdout",
     "output_type": "stream",
     "text": [
      "\u001b[1m4/4\u001b[0m \u001b[32m━━━━━━━━━━━━━━━━━━━━\u001b[0m\u001b[37m\u001b[0m \u001b[1m0s\u001b[0m 88ms/step\n",
      "              precision    recall  f1-score   support\n",
      "\n",
      "           0       0.89      0.65      0.75        62\n",
      "           1       0.66      0.89      0.76        47\n",
      "\n",
      "    accuracy                           0.75       109\n",
      "   macro avg       0.77      0.77      0.75       109\n",
      "weighted avg       0.79      0.75      0.75       109\n",
      "\n"
     ]
    },
    {
     "data": {
      "image/png": "[encoded data removed]",
      "text/plain": [
       "<Figure size 640x480 with 2 Axes>"
      ]
     },
     "metadata": {},
     "output_type": "display_data"
    }
   ],
   "source": [
    "# confusion matrix\n",
    "def ConfusionMatrix(y_pred, y_test):\n",
    "    cf_matrix = confusion_matrix(y_test, y_pred)\n",
    "    categories = ['Negative', 'Positive']\n",
    "    group_names = ['True Neg', 'False Pos', 'False Neg', 'True Pos']\n",
    "    group_percentages = ['{0:.2%}'.format(value) for value in cf_matrix.flatten() / np.sum(cf_matrix)]\n",
    "    labels = [f'{v1}\\n{v2}' for v1, v2 in zip(group_names, group_percentages)]\n",
    "    labels = np.asarray(labels).reshape(2, 2)\n",
    "\n",
    "    sns.heatmap(cf_matrix, annot=labels, cmap='Blues', fmt='',\n",
    "                xticklabels=categories, yticklabels=categories)\n",
    "    plt.xlabel(\"Predicted values\", fontdict={'size': 14}, labelpad=10)\n",
    "    plt.ylabel(\"Actual values\", fontdict={'size': 14}, labelpad=10)\n",
    "    plt.title(\"Confusion Matrix\", fontdict={'size': 18}, pad=20)\n",
    "\n",
    "y_pred = training_model.predict(X_test)\n",
    "y_pred = np.where(y_pred >= 0.5, 1, 0)\n",
    "\n",
    "ConfusionMatrix(y_pred, y_test)\n",
    "\n",
    "print(classification_report(y_test, y_pred))"
   ]
  },
  {
   "cell_type": "markdown",
   "id": "cfd11341-1368-4bf7-8e6f-24bbd087eaca",
   "metadata": {},
   "source": [
    "The recall for negative (sentiment) class and precision for positive class  both seems to be significantly low when compared to 0.89. Maybe adjusting some hyperparameters and using preprocessing techniques would help improve overall accuracy"
   ]
  },
  {
   "cell_type": "markdown",
   "id": "ec278d6d-a44d-4583-bbf5-dba8f90dddb8",
   "metadata": {},
   "source": [
    "# 3. 성능 평가:"
   ]
  },
  {
   "cell_type": "markdown",
   "id": "923f5460-85aa-4049-bde8-48ead3296da2",
   "metadata": {},
   "source": [
    "## (1) 2개 이상의 모델 Hyper Parameter 조합에 따른 모델 성능 평가 및 분석\n"
   ]
  },
  {
   "cell_type": "markdown",
   "id": "a5b358b7-d333-4c29-bf51-1e10669090be",
   "metadata": {},
   "source": [
    "### 1. specify tokenizer + add more layers + change batch and epoch"
   ]
  },
  {
   "cell_type": "code",
   "execution_count": 66,
   "id": "e63d4441-ef70-4516-8969-77c03c1e884f",
   "metadata": {},
   "outputs": [],
   "source": [
    "df = pd.read_csv('~/Downloads/Twitter_Sentiment_Validation.csv',header=None)\n",
    "df.columns = [\"ID\", \"entity\", \"sentiment\",\"content\"]\n",
    "\n",
    "df = df[(df['sentiment'] != 'Neutral') & (df['sentiment'] != 'Irrelevant')]\n",
    "\n",
    "label_dict = {'Positive': 1, 'Negative': 0}\n",
    "y = np.array([label_dict[c] for c in df['sentiment']])\n",
    "\n",
    "X_train, X_test, y_train, y_test = train_test_split(df['content'].to_list(), y, test_size=0.2, random_state=42)\n",
    "\n",
    "Embedding_dim = 32\n",
    "\n",
    "input_length = 50 \n",
    "\n",
    "Word2vec_train_data = list(map(lambda x: x.split(), X_train))\n",
    "\n",
    "word2vec_model = Word2Vec(Word2vec_train_data, \n",
    "                          vector_size=Embedding_dim, \n",
    "                          workers=8, \n",
    "                          min_count=5)\n",
    "\n",
    "# specify tokenizer\n",
    "tokenizer = Tokenizer(filters=\"!\\\"#$%&()*+,-./:;<=>?@[\\\\]^_`{|}~\\t\\n\", lower=False, oov_token=\"<oov>\")\n",
    "tokenizer.fit_on_texts(df['content'].to_list())\n",
    "vocab_length = len(tokenizer.word_index) + 1\n",
    "\n",
    "X_train = pad_sequences(tokenizer.texts_to_sequences(X_train), \n",
    "                                 maxlen=input_length)\n",
    "X_test  = pad_sequences(tokenizer.texts_to_sequences(X_test) , \n",
    "                                maxlen=input_length)\n",
    "\n",
    "embedding_matrix = np.zeros((vocab_length, Embedding_dim))\n",
    "\n",
    "for word, token in tokenizer.word_index.items():\n",
    "    if word2vec_model.wv.__contains__(word):\n",
    "        embedding_matrix[token] = word2vec_model.wv.__getitem__(word)"
   ]
  },
  {
   "cell_type": "code",
   "execution_count": 68,
   "id": "2ff6da04-049d-4da5-8699-a0e1c730783f",
   "metadata": {
    "scrolled": true
   },
   "outputs": [
    {
     "name": "stdout",
     "output_type": "stream",
     "text": [
      "Epoch 1/30\n"
     ]
    },
    {
     "name": "stderr",
     "output_type": "stream",
     "text": [
      "/Users/jameslee/anaconda3/lib/python3.11/site-packages/keras/src/layers/core/embedding.py:90: UserWarning: Argument `input_length` is deprecated. Just remove it.\n",
      "  warnings.warn(\n"
     ]
    },
    {
     "name": "stdout",
     "output_type": "stream",
     "text": [
      "\u001b[1m25/25\u001b[0m \u001b[32m━━━━━━━━━━━━━━━━━━━━\u001b[0m\u001b[37m\u001b[0m \u001b[1m3s\u001b[0m 31ms/step - accuracy: 0.5054 - loss: 0.6973 - val_accuracy: 0.5227 - val_loss: 0.6930 - learning_rate: 0.0010\n",
      "Epoch 2/30\n",
      "\u001b[1m25/25\u001b[0m \u001b[32m━━━━━━━━━━━━━━━━━━━━\u001b[0m\u001b[37m\u001b[0m \u001b[1m1s\u001b[0m 19ms/step - accuracy: 0.5446 - loss: 0.6900 - val_accuracy: 0.5227 - val_loss: 0.6920 - learning_rate: 0.0010\n",
      "Epoch 3/30\n",
      "\u001b[1m25/25\u001b[0m \u001b[32m━━━━━━━━━━━━━━━━━━━━\u001b[0m\u001b[37m\u001b[0m \u001b[1m0s\u001b[0m 18ms/step - accuracy: 0.5260 - loss: 0.6892 - val_accuracy: 0.5227 - val_loss: 0.6905 - learning_rate: 0.0010\n",
      "Epoch 4/30\n",
      "\u001b[1m25/25\u001b[0m \u001b[32m━━━━━━━━━━━━━━━━━━━━\u001b[0m\u001b[37m\u001b[0m \u001b[1m1s\u001b[0m 49ms/step - accuracy: 0.4962 - loss: 0.6894 - val_accuracy: 0.5227 - val_loss: 0.6875 - learning_rate: 0.0010\n",
      "Epoch 5/30\n",
      "\u001b[1m25/25\u001b[0m \u001b[32m━━━━━━━━━━━━━━━━━━━━\u001b[0m\u001b[37m\u001b[0m \u001b[1m1s\u001b[0m 30ms/step - accuracy: 0.5210 - loss: 0.6650 - val_accuracy: 0.6591 - val_loss: 0.6903 - learning_rate: 0.0010\n",
      "Epoch 6/30\n",
      "\u001b[1m25/25\u001b[0m \u001b[32m━━━━━━━━━━━━━━━━━━━━\u001b[0m\u001b[37m\u001b[0m \u001b[1m1s\u001b[0m 27ms/step - accuracy: 0.6932 - loss: 0.6015 - val_accuracy: 0.7045 - val_loss: 0.6113 - learning_rate: 0.0010\n",
      "Epoch 7/30\n",
      "\u001b[1m25/25\u001b[0m \u001b[32m━━━━━━━━━━━━━━━━━━━━\u001b[0m\u001b[37m\u001b[0m \u001b[1m1s\u001b[0m 27ms/step - accuracy: 0.9010 - loss: 0.3753 - val_accuracy: 0.5909 - val_loss: 0.8123 - learning_rate: 0.0010\n",
      "Epoch 8/30\n",
      "\u001b[1m25/25\u001b[0m \u001b[32m━━━━━━━━━━━━━━━━━━━━\u001b[0m\u001b[37m\u001b[0m \u001b[1m1s\u001b[0m 26ms/step - accuracy: 0.9397 - loss: 0.1431 - val_accuracy: 0.6818 - val_loss: 0.9414 - learning_rate: 0.0010\n",
      "Epoch 9/30\n",
      "\u001b[1m25/25\u001b[0m \u001b[32m━━━━━━━━━━━━━━━━━━━━\u001b[0m\u001b[37m\u001b[0m \u001b[1m1s\u001b[0m 26ms/step - accuracy: 0.9819 - loss: 0.0699 - val_accuracy: 0.6364 - val_loss: 1.1569 - learning_rate: 0.0010\n",
      "Epoch 10/30\n",
      "\u001b[1m25/25\u001b[0m \u001b[32m━━━━━━━━━━━━━━━━━━━━\u001b[0m\u001b[37m\u001b[0m \u001b[1m1s\u001b[0m 26ms/step - accuracy: 0.9899 - loss: 0.0292 - val_accuracy: 0.6591 - val_loss: 1.1219 - learning_rate: 0.0010\n",
      "Epoch 11/30\n",
      "\u001b[1m25/25\u001b[0m \u001b[32m━━━━━━━━━━━━━━━━━━━━\u001b[0m\u001b[37m\u001b[0m \u001b[1m1s\u001b[0m 29ms/step - accuracy: 0.9932 - loss: 0.0249 - val_accuracy: 0.7045 - val_loss: 1.0099 - learning_rate: 0.0010\n"
     ]
    }
   ],
   "source": [
    "def getModel():\n",
    "    embedding_layer = Embedding(\n",
    "        input_dim=vocab_length,\n",
    "        output_dim=Embedding_dim,\n",
    "        weights=[embedding_matrix],\n",
    "        input_length=input_length,\n",
    "        trainable=True\n",
    "    )\n",
    "\n",
    "    model = Sequential([\n",
    "        embedding_layer,\n",
    "        Bidirectional(LSTM(64, dropout=0.3, return_sequences=True)),\n",
    "        Conv1D(64, 3, activation='relu'),\n",
    "        GlobalMaxPool1D(),\n",
    "        # added more layers\n",
    "        Dense(16, activation='relu'),\n",
    "        Dense(16, activation='relu'),\n",
    "        Dense(16, activation='relu'),\n",
    "        Dense(1, activation='sigmoid'),\n",
    "    ])\n",
    "    model.build(input_shape=(None, input_length))\n",
    "    return model\n",
    "\n",
    "training_model = getModel()\n",
    "training_model.compile(\n",
    "    loss='binary_crossentropy',\n",
    "    optimizer='adam',\n",
    "    metrics=['accuracy']\n",
    ")\n",
    "\n",
    "callbacks = [\n",
    "    ReduceLROnPlateau(monitor='val_loss', patience=5, cooldown=0),\n",
    "    EarlyStopping(monitor='val_accuracy', min_delta=1e-4, patience=5)\n",
    "]\n",
    "\n",
    "history = training_model.fit(\n",
    "    X_train, y_train,\n",
    "    # double the batch size and epochs\n",
    "    batch_size=16,\n",
    "    epochs=30,\n",
    "    validation_split=0.1,\n",
    "    callbacks=callbacks,\n",
    "    verbose=1\n",
    ")"
   ]
  },
  {
   "cell_type": "code",
   "execution_count": 69,
   "id": "5ba7878c-05ea-402c-b362-8c88d5d8cb31",
   "metadata": {},
   "outputs": [
    {
     "name": "stdout",
     "output_type": "stream",
     "text": [
      "\u001b[1m4/4\u001b[0m \u001b[32m━━━━━━━━━━━━━━━━━━━━\u001b[0m\u001b[37m\u001b[0m \u001b[1m0s\u001b[0m 80ms/step\n",
      "              precision    recall  f1-score   support\n",
      "\n",
      "           0       0.90      0.69      0.78        62\n",
      "           1       0.69      0.89      0.78        47\n",
      "\n",
      "    accuracy                           0.78       109\n",
      "   macro avg       0.79      0.79      0.78       109\n",
      "weighted avg       0.81      0.78      0.78       109\n",
      "\n"
     ]
    },
    {
     "data": {
      "image/png": "[encoded data removed]",
      "text/plain": [
       "<Figure size 640x480 with 2 Axes>"
      ]
     },
     "metadata": {},
     "output_type": "display_data"
    }
   ],
   "source": [
    "def ConfusionMatrix(y_pred, y_test):\n",
    "    cf_matrix = confusion_matrix(y_test, y_pred)\n",
    "    categories = ['Negative', 'Positive']\n",
    "    group_names = ['True Neg', 'False Pos', 'False Neg', 'True Pos']\n",
    "    group_percentages = ['{0:.2%}'.format(value) for value in cf_matrix.flatten() / np.sum(cf_matrix)]\n",
    "    labels = [f'{v1}\\n{v2}' for v1, v2 in zip(group_names, group_percentages)]\n",
    "    labels = np.asarray(labels).reshape(2, 2)\n",
    "\n",
    "    sns.heatmap(cf_matrix, annot=labels, cmap='Blues', fmt='',\n",
    "                xticklabels=categories, yticklabels=categories)\n",
    "    plt.xlabel(\"Predicted values\", fontdict={'size': 14}, labelpad=10)\n",
    "    plt.ylabel(\"Actual values\", fontdict={'size': 14}, labelpad=10)\n",
    "    plt.title(\"Confusion Matrix\", fontdict={'size': 18}, pad=20)\n",
    "\n",
    "y_pred = training_model.predict(X_test)\n",
    "y_pred = np.where(y_pred >= 0.5, 1, 0)\n",
    "\n",
    "ConfusionMatrix(y_pred, y_test)\n",
    "\n",
    "print(classification_report(y_test, y_pred))"
   ]
  },
  {
   "cell_type": "markdown",
   "id": "18d64582-dad6-4ef2-9579-d9cea9ab6439",
   "metadata": {},
   "source": [
    "When compared to the previous performance, the precision and recall for both class increased at 0.78 but not a significant amount. Therefore, it seems specifying the tokenizer and making some changes in layers, batch, epoch didn't affect much. In the next model, it would be more focused towards preprocessing."
   ]
  },
  {
   "cell_type": "markdown",
   "id": "3c7ab23b-4254-4adf-a9ed-ad1b14b1173a",
   "metadata": {},
   "source": [
    "### 2. only include words in english words + no stopwords + lemmatize"
   ]
  },
  {
   "cell_type": "code",
   "execution_count": 159,
   "id": "aaade1dd-5ad2-4321-bae2-3086638a024d",
   "metadata": {},
   "outputs": [],
   "source": [
    "df = pd.read_csv('~/Downloads/Twitter_Sentiment_Validation.csv',header=None)\n",
    "df.columns = [\"ID\", \"entity\", \"sentiment\",\"content\"]\n",
    "df = df[(df['sentiment'] != 'Neutral') & (df['sentiment'] != 'Irrelevant')]\n",
    "\n",
    "english_words = set(words.words())  # english words\n",
    "stop_words = set(stopwords.words('english')) # stopwords\n",
    "lemmatizer = WordNetLemmatizer() # lemmatize\n",
    "\n",
    "# cleaning text function\n",
    "def clean_text_and_filter(text):\n",
    "    # remove special characters\n",
    "    text = re.sub(r'[^a-zA-Z\\s]', \"\", text)  \n",
    "    \n",
    "    # lowercase and strip whitespace\n",
    "    text = text.lower().strip()\n",
    "    \n",
    "    # englishwords, no stopwords, and lemmatize\n",
    "    filter = [\n",
    "        lemmatizer.lemmatize(word) \n",
    "        for word in text.split() \n",
    "        if word in english_words and word not in stop_words\n",
    "    ]\n",
    "    \n",
    "    return \" \".join(filter)\n",
    "    \n",
    "df['content'] = df['content'].apply(clean_text_and_filter)\n",
    "\n",
    "label_dict = {'Positive': 1, 'Negative': 0}\n",
    "y = np.array([label_dict[c] for c in df['sentiment']])\n",
    "\n",
    "from sklearn.model_selection import train_test_split\n",
    "\n",
    "X_train, X_test, y_train, y_test = train_test_split(df['content'].to_list(), y, test_size=0.2, random_state=42)\n",
    "\n",
    "Embedding_dim = 32\n",
    "\n",
    "input_length = 50 \n",
    "\n",
    "Word2vec_train_data = list(map(lambda x: x.split(), X_train))\n",
    "\n",
    "word2vec_model = Word2Vec(Word2vec_train_data, \n",
    "                          vector_size=Embedding_dim, \n",
    "                          workers=8, \n",
    "                          min_count=5)\n",
    "\n",
    "tokenizer = Tokenizer()\n",
    "tokenizer.fit_on_texts(df['content'].to_list())\n",
    "vocab_length = len(tokenizer.word_index) + 1\n",
    "\n",
    "X_train = pad_sequences(tokenizer.texts_to_sequences(X_train), \n",
    "                                 maxlen=input_length)\n",
    "X_test  = pad_sequences(tokenizer.texts_to_sequences(X_test) , \n",
    "                                maxlen=input_length)\n",
    "\n",
    "embedding_matrix = np.zeros((vocab_length, Embedding_dim))\n",
    "\n",
    "for word, token in tokenizer.word_index.items():\n",
    "    if word2vec_model.wv.__contains__(word):\n",
    "        embedding_matrix[token] = word2vec_model.wv.__getitem__(word)"
   ]
  },
  {
   "cell_type": "code",
   "execution_count": 161,
   "id": "4e7aa2af-340f-4a8a-9d82-3b635e9d5215",
   "metadata": {
    "scrolled": true
   },
   "outputs": [
    {
     "name": "stdout",
     "output_type": "stream",
     "text": [
      "Epoch 1/15\n"
     ]
    },
    {
     "name": "stderr",
     "output_type": "stream",
     "text": [
      "/Users/jameslee/anaconda3/lib/python3.11/site-packages/keras/src/layers/core/embedding.py:90: UserWarning: Argument `input_length` is deprecated. Just remove it.\n",
      "  warnings.warn(\n"
     ]
    },
    {
     "name": "stdout",
     "output_type": "stream",
     "text": [
      "\u001b[1m49/49\u001b[0m \u001b[32m━━━━━━━━━━━━━━━━━━━━\u001b[0m\u001b[37m\u001b[0m \u001b[1m3s\u001b[0m 19ms/step - accuracy: 0.5337 - loss: 0.6909 - val_accuracy: 0.5682 - val_loss: 0.6926 - learning_rate: 0.0010\n",
      "Epoch 2/15\n",
      "\u001b[1m49/49\u001b[0m \u001b[32m━━━━━━━━━━━━━━━━━━━━\u001b[0m\u001b[37m\u001b[0m \u001b[1m1s\u001b[0m 17ms/step - accuracy: 0.6046 - loss: 0.6813 - val_accuracy: 0.5909 - val_loss: 0.6644 - learning_rate: 0.0010\n",
      "Epoch 3/15\n",
      "\u001b[1m49/49\u001b[0m \u001b[32m━━━━━━━━━━━━━━━━━━━━\u001b[0m\u001b[37m\u001b[0m \u001b[1m1s\u001b[0m 22ms/step - accuracy: 0.8459 - loss: 0.5162 - val_accuracy: 0.6136 - val_loss: 0.6617 - learning_rate: 0.0010\n",
      "Epoch 4/15\n",
      "\u001b[1m49/49\u001b[0m \u001b[32m━━━━━━━━━━━━━━━━━━━━\u001b[0m\u001b[37m\u001b[0m \u001b[1m1s\u001b[0m 23ms/step - accuracy: 0.9278 - loss: 0.2105 - val_accuracy: 0.6818 - val_loss: 0.7880 - learning_rate: 0.0010\n",
      "Epoch 5/15\n",
      "\u001b[1m49/49\u001b[0m \u001b[32m━━━━━━━━━━━━━━━━━━━━\u001b[0m\u001b[37m\u001b[0m \u001b[1m1s\u001b[0m 22ms/step - accuracy: 0.9658 - loss: 0.1029 - val_accuracy: 0.6364 - val_loss: 1.0210 - learning_rate: 0.0010\n",
      "Epoch 6/15\n",
      "\u001b[1m49/49\u001b[0m \u001b[32m━━━━━━━━━━━━━━━━━━━━\u001b[0m\u001b[37m\u001b[0m \u001b[1m1s\u001b[0m 22ms/step - accuracy: 0.9780 - loss: 0.0618 - val_accuracy: 0.6818 - val_loss: 1.3462 - learning_rate: 0.0010\n",
      "Epoch 7/15\n",
      "\u001b[1m49/49\u001b[0m \u001b[32m━━━━━━━━━━━━━━━━━━━━\u001b[0m\u001b[37m\u001b[0m \u001b[1m1s\u001b[0m 22ms/step - accuracy: 0.9937 - loss: 0.0262 - val_accuracy: 0.6591 - val_loss: 1.6791 - learning_rate: 0.0010\n",
      "Epoch 8/15\n",
      "\u001b[1m49/49\u001b[0m \u001b[32m━━━━━━━━━━━━━━━━━━━━\u001b[0m\u001b[37m\u001b[0m \u001b[1m1s\u001b[0m 22ms/step - accuracy: 0.9892 - loss: 0.0279 - val_accuracy: 0.6591 - val_loss: 1.7272 - learning_rate: 0.0010\n",
      "Epoch 9/15\n",
      "\u001b[1m49/49\u001b[0m \u001b[32m━━━━━━━━━━━━━━━━━━━━\u001b[0m\u001b[37m\u001b[0m \u001b[1m1s\u001b[0m 22ms/step - accuracy: 0.9869 - loss: 0.0342 - val_accuracy: 0.6818 - val_loss: 1.7431 - learning_rate: 1.0000e-04\n"
     ]
    }
   ],
   "source": [
    "def getModel():\n",
    "    embedding_layer = Embedding(\n",
    "        input_dim=vocab_length,\n",
    "        output_dim=Embedding_dim,\n",
    "        weights=[embedding_matrix],\n",
    "        input_length=input_length,\n",
    "        trainable=True\n",
    "    )\n",
    "\n",
    "    model = Sequential([\n",
    "        embedding_layer,\n",
    "        Bidirectional(LSTM(64, dropout=0.3, return_sequences=True)),\n",
    "        Conv1D(64, 3, activation='relu'),  # Use kernel_size=3 and 'same' padding\n",
    "        GlobalMaxPool1D(),\n",
    "        Dense(16, activation='relu'),\n",
    "        Dense(1, activation='sigmoid'),\n",
    "    ])\n",
    "    model.build(input_shape=(None, input_length))\n",
    "    return model\n",
    "\n",
    "training_model = getModel()\n",
    "training_model.compile(\n",
    "    loss='binary_crossentropy',\n",
    "    optimizer='adam',\n",
    "    metrics=['accuracy']\n",
    ")\n",
    "\n",
    "callbacks = [\n",
    "    ReduceLROnPlateau(monitor='val_loss', patience=5, cooldown=0),\n",
    "    EarlyStopping(monitor='val_accuracy', min_delta=1e-4, patience=5)\n",
    "]\n",
    "\n",
    "history = training_model.fit(\n",
    "    X_train, y_train,\n",
    "    batch_size=8,\n",
    "    epochs=15,\n",
    "    validation_split=0.1,\n",
    "    callbacks=callbacks,\n",
    "    verbose=1\n",
    ")"
   ]
  },
  {
   "cell_type": "code",
   "execution_count": 162,
   "id": "76a83798-f91c-4bbb-a8f5-26786d369fbd",
   "metadata": {},
   "outputs": [
    {
     "name": "stdout",
     "output_type": "stream",
     "text": [
      "\u001b[1m4/4\u001b[0m \u001b[32m━━━━━━━━━━━━━━━━━━━━\u001b[0m\u001b[37m\u001b[0m \u001b[1m0s\u001b[0m 70ms/step\n",
      "              precision    recall  f1-score   support\n",
      "\n",
      "           0       0.78      0.74      0.76        62\n",
      "           1       0.68      0.72      0.70        47\n",
      "\n",
      "    accuracy                           0.73       109\n",
      "   macro avg       0.73      0.73      0.73       109\n",
      "weighted avg       0.74      0.73      0.73       109\n",
      "\n"
     ]
    },
    {
     "data": {
      "image/png": "[encoded data removed]",
      "text/plain": [
       "<Figure size 640x480 with 2 Axes>"
      ]
     },
     "metadata": {},
     "output_type": "display_data"
    }
   ],
   "source": [
    "def ConfusionMatrix(y_pred, y_test):\n",
    "    cf_matrix = confusion_matrix(y_test, y_pred)\n",
    "    categories = ['Negative', 'Positive']\n",
    "    group_names = ['True Neg', 'False Pos', 'False Neg', 'True Pos']\n",
    "    group_percentages = ['{0:.2%}'.format(value) for value in cf_matrix.flatten() / np.sum(cf_matrix)]\n",
    "    labels = [f'{v1}\\n{v2}' for v1, v2 in zip(group_names, group_percentages)]\n",
    "    labels = np.asarray(labels).reshape(2, 2)\n",
    "\n",
    "    sns.heatmap(cf_matrix, annot=labels, cmap='Blues', fmt='',\n",
    "                xticklabels=categories, yticklabels=categories)\n",
    "    plt.xlabel(\"Predicted values\", fontdict={'size': 14}, labelpad=10)\n",
    "    plt.ylabel(\"Actual values\", fontdict={'size': 14}, labelpad=10)\n",
    "    plt.title(\"Confusion Matrix\", fontdict={'size': 18}, pad=20)\n",
    "\n",
    "y_pred = training_model.predict(X_test)\n",
    "y_pred = np.where(y_pred >= 0.5, 1, 0)\n",
    "\n",
    "ConfusionMatrix(y_pred, y_test)\n",
    "\n",
    "print(classification_report(y_test, y_pred))"
   ]
  },
  {
   "cell_type": "markdown",
   "id": "847de22f-33e2-43b9-82cf-c6ee160c760c",
   "metadata": {},
   "source": [
    "It seems there hasn't been much of a change despite utilizing preprocessing techniques like removing stopwords, lemmantizing, and only including words in english_words. Perhaps using glove instead of word2vec would help."
   ]
  },
  {
   "cell_type": "markdown",
   "id": "762fdb6c-d82c-4ba4-b416-67cb4ad90e18",
   "metadata": {},
   "source": [
    "### 3. Glove instead of word2vec"
   ]
  },
  {
   "cell_type": "code",
   "execution_count": 168,
   "id": "24262d7d-693c-4197-8087-e1d891050518",
   "metadata": {},
   "outputs": [],
   "source": [
    "df = pd.read_csv('~/Downloads/Twitter_Sentiment_Validation.csv',header=None)\n",
    "df.columns = [\"ID\", \"entity\", \"sentiment\",\"content\"]\n",
    "df = df[(df['sentiment'] != 'Neutral') & (df['sentiment'] != 'Irrelevant')]\n",
    "\n",
    "english_words = set(words.words())  # english words\n",
    "stop_words = set(stopwords.words('english')) # stopwords\n",
    "lemmatizer = WordNetLemmatizer() # lemmatize\n",
    "\n",
    "# cleaning text function\n",
    "def clean_text_and_filter(text):\n",
    "    # remove special characters\n",
    "    text = re.sub(r'[^a-zA-Z\\s]', \"\", text)  \n",
    "    # lowercase and strip whitespace\n",
    "    text = text.lower().strip()\n",
    "    # englishwords, no stopwords, and lemmatize\n",
    "    filter = [\n",
    "        lemmatizer.lemmatize(word) \n",
    "        for word in text.split() \n",
    "        if word in english_words and word not in stop_words\n",
    "    ]\n",
    "    return \" \".join(filter)\n",
    "    \n",
    "df['content'] = df['content'].apply(clean_text_and_filter)\n",
    "\n",
    "label_dict = {'Positive': 1, 'Negative': 0}\n",
    "y = np.array([label_dict[c] for c in df['sentiment']])\n",
    "\n",
    "from sklearn.model_selection import train_test_split\n",
    "\n",
    "X_train, X_test, y_train, y_test = train_test_split(df['content'].to_list(), y, test_size=0.2, random_state=42)\n",
    "\n",
    "embedding_dim = 200\n",
    "input_length = 50\n",
    "\n",
    "tokenizer = Tokenizer()\n",
    "tokenizer.fit_on_texts(df['content'].to_list())\n",
    "vocab_length = len(tokenizer.word_index) + 1\n",
    "\n",
    "X_train = pad_sequences(tokenizer.texts_to_sequences(X_train), maxlen=input_length)\n",
    "X_test = pad_sequences(tokenizer.texts_to_sequences(X_test), maxlen=input_length)\n",
    "\n",
    "# glove embeddings\n",
    "glove_file_path = \"downloads/glove.6B.200d.txt\"\n",
    "embeddings_index = {}\n",
    "\n",
    "# dictionary that maps each word to its matching vector. Written by CHATgpt \n",
    "with open(glove_file_path, 'r', encoding='utf-8') as file:\n",
    "    for line in file:\n",
    "        values = line.split()\n",
    "        word = values[0]\n",
    "        vectors = np.asarray(values[1:], dtype='float32')\n",
    "        embeddings_index[word] = vectors\n",
    "\n",
    "embedding_matrix = np.zeros((vocab_length, embedding_dim))\n",
    "\n",
    "for word, token in tokenizer.word_index.items():\n",
    "    embedding_vector = embeddings_index.get(word)\n",
    "    if embedding_vector is not None:\n",
    "        embedding_matrix[token] = embedding_vector"
   ]
  },
  {
   "cell_type": "code",
   "execution_count": 169,
   "id": "f5af85c0-42d6-48b1-a50d-ac42c36bf70d",
   "metadata": {},
   "outputs": [
    {
     "name": "stdout",
     "output_type": "stream",
     "text": [
      "Epoch 1/15\n"
     ]
    },
    {
     "name": "stderr",
     "output_type": "stream",
     "text": [
      "/Users/jameslee/anaconda3/lib/python3.11/site-packages/keras/src/layers/core/embedding.py:90: UserWarning: Argument `input_length` is deprecated. Just remove it.\n",
      "  warnings.warn(\n"
     ]
    },
    {
     "name": "stdout",
     "output_type": "stream",
     "text": [
      "\u001b[1m49/49\u001b[0m \u001b[32m━━━━━━━━━━━━━━━━━━━━\u001b[0m\u001b[37m\u001b[0m \u001b[1m3s\u001b[0m 29ms/step - accuracy: 0.5141 - loss: 0.6920 - val_accuracy: 0.5909 - val_loss: 0.6747 - learning_rate: 0.0010\n",
      "Epoch 2/15\n",
      "\u001b[1m49/49\u001b[0m \u001b[32m━━━━━━━━━━━━━━━━━━━━\u001b[0m\u001b[37m\u001b[0m \u001b[1m1s\u001b[0m 21ms/step - accuracy: 0.7519 - loss: 0.5430 - val_accuracy: 0.5909 - val_loss: 0.7954 - learning_rate: 0.0010\n",
      "Epoch 3/15\n",
      "\u001b[1m49/49\u001b[0m \u001b[32m━━━━━━━━━━━━━━━━━━━━\u001b[0m\u001b[37m\u001b[0m \u001b[1m2s\u001b[0m 35ms/step - accuracy: 0.8669 - loss: 0.3418 - val_accuracy: 0.6136 - val_loss: 0.9264 - learning_rate: 0.0010\n",
      "Epoch 4/15\n",
      "\u001b[1m49/49\u001b[0m \u001b[32m━━━━━━━━━━━━━━━━━━━━\u001b[0m\u001b[37m\u001b[0m \u001b[1m2s\u001b[0m 35ms/step - accuracy: 0.8863 - loss: 0.2599 - val_accuracy: 0.5682 - val_loss: 1.2034 - learning_rate: 0.0010\n",
      "Epoch 5/15\n",
      "\u001b[1m49/49\u001b[0m \u001b[32m━━━━━━━━━━━━━━━━━━━━\u001b[0m\u001b[37m\u001b[0m \u001b[1m2s\u001b[0m 34ms/step - accuracy: 0.9284 - loss: 0.1785 - val_accuracy: 0.6364 - val_loss: 1.0478 - learning_rate: 0.0010\n",
      "Epoch 6/15\n",
      "\u001b[1m49/49\u001b[0m \u001b[32m━━━━━━━━━━━━━━━━━━━━\u001b[0m\u001b[37m\u001b[0m \u001b[1m2s\u001b[0m 34ms/step - accuracy: 0.9434 - loss: 0.1212 - val_accuracy: 0.6136 - val_loss: 1.5054 - learning_rate: 0.0010\n",
      "Epoch 7/15\n",
      "\u001b[1m49/49\u001b[0m \u001b[32m━━━━━━━━━━━━━━━━━━━━\u001b[0m\u001b[37m\u001b[0m \u001b[1m2s\u001b[0m 34ms/step - accuracy: 0.9726 - loss: 0.0585 - val_accuracy: 0.6818 - val_loss: 1.4186 - learning_rate: 1.0000e-04\n",
      "Epoch 8/15\n",
      "\u001b[1m49/49\u001b[0m \u001b[32m━━━━━━━━━━━━━━━━━━━━\u001b[0m\u001b[37m\u001b[0m \u001b[1m2s\u001b[0m 34ms/step - accuracy: 0.9723 - loss: 0.0736 - val_accuracy: 0.6818 - val_loss: 1.4619 - learning_rate: 1.0000e-04\n",
      "Epoch 9/15\n",
      "\u001b[1m49/49\u001b[0m \u001b[32m━━━━━━━━━━━━━━━━━━━━\u001b[0m\u001b[37m\u001b[0m \u001b[1m2s\u001b[0m 34ms/step - accuracy: 0.9684 - loss: 0.0670 - val_accuracy: 0.6818 - val_loss: 1.4934 - learning_rate: 1.0000e-04\n",
      "Epoch 10/15\n",
      "\u001b[1m49/49\u001b[0m \u001b[32m━━━━━━━━━━━━━━━━━━━━\u001b[0m\u001b[37m\u001b[0m \u001b[1m2s\u001b[0m 37ms/step - accuracy: 0.9762 - loss: 0.0719 - val_accuracy: 0.6818 - val_loss: 1.5176 - learning_rate: 1.0000e-04\n",
      "Epoch 11/15\n",
      "\u001b[1m49/49\u001b[0m \u001b[32m━━━━━━━━━━━━━━━━━━━━\u001b[0m\u001b[37m\u001b[0m \u001b[1m2s\u001b[0m 35ms/step - accuracy: 0.9742 - loss: 0.0522 - val_accuracy: 0.7045 - val_loss: 1.5241 - learning_rate: 1.0000e-04\n",
      "Epoch 12/15\n",
      "\u001b[1m49/49\u001b[0m \u001b[32m━━━━━━━━━━━━━━━━━━━━\u001b[0m\u001b[37m\u001b[0m \u001b[1m2s\u001b[0m 35ms/step - accuracy: 0.9846 - loss: 0.0440 - val_accuracy: 0.7045 - val_loss: 1.5263 - learning_rate: 1.0000e-05\n",
      "Epoch 13/15\n",
      "\u001b[1m49/49\u001b[0m \u001b[32m━━━━━━━━━━━━━━━━━━━━\u001b[0m\u001b[37m\u001b[0m \u001b[1m2s\u001b[0m 35ms/step - accuracy: 0.9835 - loss: 0.0425 - val_accuracy: 0.7045 - val_loss: 1.5291 - learning_rate: 1.0000e-05\n",
      "Epoch 14/15\n",
      "\u001b[1m49/49\u001b[0m \u001b[32m━━━━━━━━━━━━━━━━━━━━\u001b[0m\u001b[37m\u001b[0m \u001b[1m2s\u001b[0m 34ms/step - accuracy: 0.9642 - loss: 0.0546 - val_accuracy: 0.7045 - val_loss: 1.5334 - learning_rate: 1.0000e-05\n",
      "Epoch 15/15\n",
      "\u001b[1m49/49\u001b[0m \u001b[32m━━━━━━━━━━━━━━━━━━━━\u001b[0m\u001b[37m\u001b[0m \u001b[1m2s\u001b[0m 34ms/step - accuracy: 0.9829 - loss: 0.0449 - val_accuracy: 0.7045 - val_loss: 1.5373 - learning_rate: 1.0000e-05\n"
     ]
    }
   ],
   "source": [
    "def getModel():\n",
    "    embedding_layer = Embedding(\n",
    "        input_dim=vocab_length,\n",
    "        output_dim=embedding_dim,\n",
    "        weights=[embedding_matrix],\n",
    "        input_length=input_length,\n",
    "        trainable=True\n",
    "    )\n",
    "\n",
    "    model = Sequential([\n",
    "        embedding_layer,\n",
    "        Bidirectional(LSTM(64, dropout=0.3, return_sequences=True)),\n",
    "        Conv1D(64, 3, activation='relu'),  # Use kernel_size=3 and 'same' padding\n",
    "        GlobalMaxPool1D(),\n",
    "        Dense(16, activation='relu'),\n",
    "        Dense(1, activation='sigmoid'),\n",
    "    ])\n",
    "    model.build(input_shape=(None, input_length))\n",
    "    return model\n",
    "\n",
    "training_model = getModel()\n",
    "training_model.compile(\n",
    "    loss='binary_crossentropy',\n",
    "    optimizer='adam',\n",
    "    metrics=['accuracy']\n",
    ")\n",
    "\n",
    "callbacks = [\n",
    "    ReduceLROnPlateau(monitor='val_loss', patience=5, cooldown=0),\n",
    "    EarlyStopping(monitor='val_accuracy', min_delta=1e-4, patience=5)\n",
    "]\n",
    "\n",
    "history = training_model.fit(\n",
    "    X_train, y_train,\n",
    "    batch_size=8,\n",
    "    epochs=15,\n",
    "    validation_split=0.1,\n",
    "    callbacks=callbacks,\n",
    "    verbose=1\n",
    ")"
   ]
  },
  {
   "cell_type": "code",
   "execution_count": 170,
   "id": "3fa6d26a-4fec-4693-9e92-dbf96b5df17d",
   "metadata": {},
   "outputs": [
    {
     "name": "stdout",
     "output_type": "stream",
     "text": [
      "\u001b[1m4/4\u001b[0m \u001b[32m━━━━━━━━━━━━━━━━━━━━\u001b[0m\u001b[37m\u001b[0m \u001b[1m0s\u001b[0m 70ms/step\n",
      "              precision    recall  f1-score   support\n",
      "\n",
      "           0       0.84      0.76      0.80        62\n",
      "           1       0.72      0.81      0.76        47\n",
      "\n",
      "    accuracy                           0.78       109\n",
      "   macro avg       0.78      0.78      0.78       109\n",
      "weighted avg       0.79      0.78      0.78       109\n",
      "\n"
     ]
    },
    {
     "data": {
      "image/png": "[encoded data removed]",
      "text/plain": [
       "<Figure size 640x480 with 2 Axes>"
      ]
     },
     "metadata": {},
     "output_type": "display_data"
    }
   ],
   "source": [
    "def ConfusionMatrix(y_pred, y_test):\n",
    "    cf_matrix = confusion_matrix(y_test, y_pred)\n",
    "    categories = ['Negative', 'Positive']\n",
    "    group_names = ['True Neg', 'False Pos', 'False Neg', 'True Pos']\n",
    "    group_percentages = ['{0:.2%}'.format(value) for value in cf_matrix.flatten() / np.sum(cf_matrix)]\n",
    "    labels = [f'{v1}\\n{v2}' for v1, v2 in zip(group_names, group_percentages)]\n",
    "    labels = np.asarray(labels).reshape(2, 2)\n",
    "\n",
    "    sns.heatmap(cf_matrix, annot=labels, cmap='Blues', fmt='',\n",
    "                xticklabels=categories, yticklabels=categories)\n",
    "    plt.xlabel(\"Predicted values\", fontdict={'size': 14}, labelpad=10)\n",
    "    plt.ylabel(\"Actual values\", fontdict={'size': 14}, labelpad=10)\n",
    "    plt.title(\"Confusion Matrix\", fontdict={'size': 18}, pad=20)\n",
    "\n",
    "y_pred = training_model.predict(X_test)\n",
    "y_pred = np.where(y_pred >= 0.5, 1, 0)\n",
    "\n",
    "ConfusionMatrix(y_pred, y_test)\n",
    "\n",
    "print(classification_report(y_test, y_pred))"
   ]
  },
  {
   "cell_type": "markdown",
   "id": "b4881fea-102a-41c4-b63c-de47cd86adc2",
   "metadata": {},
   "source": [
    "Choosing GloVe instead of Word2Vec definitely helped increase the F1-scores for both class 0 and class 1, achieving 0.8 and 0.76, respectively. This improvement is likely due to GloVe's ability to capture global word-to-word co-occurrence statistics of words, which provided more meaningful word embeddings for predicting the sentiment of the content."
   ]
  }
 ],
 "metadata": {
  "kernelspec": {
   "display_name": "Python 3 (ipykernel)",
   "language": "python",
   "name": "python3"
  },
  "language_info": {
   "codemirror_mode": {
    "name": "ipython",
    "version": 3
   },
   "file_extension": ".py",
   "mimetype": "text/x-python",
   "name": "python",
   "nbconvert_exporter": "python",
   "pygments_lexer": "ipython3",
   "version": "3.11.5"
  }
 },
 "nbformat": 4,
 "nbformat_minor": 5
}
